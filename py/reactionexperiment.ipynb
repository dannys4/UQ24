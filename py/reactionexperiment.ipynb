{
 "cells": [
  {
   "cell_type": "code",
   "execution_count": 17,
   "metadata": {},
   "outputs": [],
   "source": [
    "from juliacall import Main as jl\n",
    "import numpy as np\n",
    "first_run = False\n",
    "\n",
    "samples = None\n",
    "if first_run:\n",
    "    jl.seval('import Pkg; Pkg.add([\"Catalyst\", \"DifferentialEquations\"])')\n",
    "    jl.seval('include(\"../schloegl.jl\")')\n",
    "    samples = jl.SampleSchloeglExample(2000).to_numpy()\n",
    "    samples -= samples.mean(axis=1)[:, None]\n",
    "    samples /= samples.std(axis=1)[:, None]\n",
    "    np.save('../data/samples.npy', samples)\n",
    "else:\n",
    "    samples = np.load('../data/samples.npy')"
   ]
  }
 ],
 "metadata": {
  "kernelspec": {
   "display_name": "juliapy",
   "language": "python",
   "name": "python3"
  },
  "language_info": {
   "codemirror_mode": {
    "name": "ipython",
    "version": 3
   },
   "file_extension": ".py",
   "mimetype": "text/x-python",
   "name": "python",
   "nbconvert_exporter": "python",
   "pygments_lexer": "ipython3",
   "version": "3.12.1"
  }
 },
 "nbformat": 4,
 "nbformat_minor": 2
}
